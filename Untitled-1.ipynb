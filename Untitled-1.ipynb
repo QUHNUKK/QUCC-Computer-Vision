{
 "cells": [
  {
   "cell_type": "code",
   "execution_count": 1,
   "metadata": {},
   "outputs": [
    {
     "ename": "KeyboardInterrupt",
     "evalue": "",
     "output_type": "error",
     "traceback": [
      "\u001b[1;31m---------------------------------------------------------------------------\u001b[0m",
      "\u001b[1;31mKeyboardInterrupt\u001b[0m                         Traceback (most recent call last)",
      "\u001b[1;32mc:\\Users\\6hkhk\\OneDrive - Qatar University\\Desktop\\QUCCC 22\\Computer Vision Workshop\\Untitled-1.ipynb Cell 1\u001b[0m in \u001b[0;36m<cell line: 9>\u001b[1;34m()\u001b[0m\n\u001b[0;32m     <a href='vscode-notebook-cell:/c%3A/Users/6hkhk/OneDrive%20-%20Qatar%20University/Desktop/QUCCC%2022/Computer%20Vision%20Workshop/Untitled-1.ipynb#ch0000000?line=17'>18</a>\u001b[0m res \u001b[39m=\u001b[39m cv\u001b[39m.\u001b[39mbitwise_and(frame,frame, mask\u001b[39m=\u001b[39m mask)\n\u001b[0;32m     <a href='vscode-notebook-cell:/c%3A/Users/6hkhk/OneDrive%20-%20Qatar%20University/Desktop/QUCCC%2022/Computer%20Vision%20Workshop/Untitled-1.ipynb#ch0000000?line=18'>19</a>\u001b[0m edges \u001b[39m=\u001b[39m cv\u001b[39m.\u001b[39mCanny(mask,\u001b[39m100\u001b[39m,\u001b[39m200\u001b[39m)\n\u001b[1;32m---> <a href='vscode-notebook-cell:/c%3A/Users/6hkhk/OneDrive%20-%20Qatar%20University/Desktop/QUCCC%2022/Computer%20Vision%20Workshop/Untitled-1.ipynb#ch0000000?line=20'>21</a>\u001b[0m cv\u001b[39m.\u001b[39;49mimshow(\u001b[39m'\u001b[39;49m\u001b[39mframe\u001b[39;49m\u001b[39m'\u001b[39;49m,frame)\n\u001b[0;32m     <a href='vscode-notebook-cell:/c%3A/Users/6hkhk/OneDrive%20-%20Qatar%20University/Desktop/QUCCC%2022/Computer%20Vision%20Workshop/Untitled-1.ipynb#ch0000000?line=21'>22</a>\u001b[0m cv\u001b[39m.\u001b[39mimshow(\u001b[39m'\u001b[39m\u001b[39mmask\u001b[39m\u001b[39m'\u001b[39m,mask)\n\u001b[0;32m     <a href='vscode-notebook-cell:/c%3A/Users/6hkhk/OneDrive%20-%20Qatar%20University/Desktop/QUCCC%2022/Computer%20Vision%20Workshop/Untitled-1.ipynb#ch0000000?line=22'>23</a>\u001b[0m cv\u001b[39m.\u001b[39mimshow(\u001b[39m'\u001b[39m\u001b[39mres\u001b[39m\u001b[39m'\u001b[39m,res)\n",
      "\u001b[1;31mKeyboardInterrupt\u001b[0m: "
     ]
    },
    {
     "ename": "",
     "evalue": "",
     "output_type": "error",
     "traceback": [
      "\u001b[1;31mThe Kernel crashed while executing code in the the current cell or a previous cell. Please review the code in the cell(s) to identify a possible cause of the failure. Click <a href='https://aka.ms/vscodeJupyterKernelCrash'>here</a> for more info. View Jupyter <a href='command:jupyter.viewOutput'>log</a> for further details."
     ]
    }
   ],
   "source": [
    "#this is a code that uses the web cam and masks images based on a specific color(blue is used) and then does edge detection, it shows all the stages in diffrent windows\n",
    "import cv2 as cv\n",
    "import numpy as np\n",
    "\n",
    "cap = cv.VideoCapture(1)\n",
    "\n",
    "while(1):\n",
    "    # Take each frame\n",
    "    _, frame = cap.read()\n",
    "    # Convert BGR to HSV\n",
    "    hsv = cv.cvtColor(frame, cv.COLOR_BGR2HSV)\n",
    "    # define range of blue color in HSV\n",
    "    lower_blue = np.array([90,43,111])\n",
    "    upper_blue = np.array([122,255,255])\n",
    "    # Threshold the HSV image to get only blue colors\n",
    "    mask = cv.inRange(hsv, lower_blue, upper_blue)\n",
    "    # Bitwise-AND mask and original image\n",
    "    res = cv.bitwise_and(frame,frame, mask= mask)\n",
    "    edges = cv.Canny(mask,100,200)\n",
    "\n",
    "    cv.imshow('frame',frame)\n",
    "    cv.imshow('mask',mask)\n",
    "    cv.imshow('res',res)\n",
    "    cv.imshow('edge',edges)\n",
    "\n",
    "    k = cv.waitKey(5) & 0xFF\n",
    "    if k == 27:\n",
    "        break\n",
    "\n",
    "cv.destroyAllWindows()"
   ]
  },
  {
   "cell_type": "code",
   "execution_count": 1,
   "metadata": {},
   "outputs": [
    {
     "ename": "error",
     "evalue": "OpenCV(4.6.0) D:\\a\\opencv-python\\opencv-python\\opencv\\modules\\imgproc\\src\\color.cpp:182: error: (-215:Assertion failed) !_src.empty() in function 'cv::cvtColor'\n",
     "output_type": "error",
     "traceback": [
      "\u001b[1;31m---------------------------------------------------------------------------\u001b[0m",
      "\u001b[1;31merror\u001b[0m                                     Traceback (most recent call last)",
      "\u001b[1;32mc:\\Users\\6hkhk\\OneDrive - Qatar University\\Desktop\\QUCCC 22\\Computer Vision Workshop\\Untitled-1.ipynb Cell 2\u001b[0m in \u001b[0;36m<cell line: 8>\u001b[1;34m()\u001b[0m\n\u001b[0;32m      <a href='vscode-notebook-cell:/c%3A/Users/6hkhk/OneDrive%20-%20Qatar%20University/Desktop/QUCCC%2022/Computer%20Vision%20Workshop/Untitled-1.ipynb#ch0000001?line=5'>6</a>\u001b[0m \u001b[39m# Load image\u001b[39;00m\n\u001b[0;32m      <a href='vscode-notebook-cell:/c%3A/Users/6hkhk/OneDrive%20-%20Qatar%20University/Desktop/QUCCC%2022/Computer%20Vision%20Workshop/Untitled-1.ipynb#ch0000001?line=6'>7</a>\u001b[0m frame \u001b[39m=\u001b[39m cv\u001b[39m.\u001b[39mimread(\u001b[39m\"\u001b[39m\u001b[39mD:\u001b[39m\u001b[39m\\\u001b[39m\u001b[39mcomputer vision\u001b[39m\u001b[39m\\\u001b[39m\u001b[39mWhatsApp Image 2022-08-26 at 11.36.18 PM.jpeg\u001b[39m\u001b[39m\"\u001b[39m)\n\u001b[1;32m----> <a href='vscode-notebook-cell:/c%3A/Users/6hkhk/OneDrive%20-%20Qatar%20University/Desktop/QUCCC%2022/Computer%20Vision%20Workshop/Untitled-1.ipynb#ch0000001?line=7'>8</a>\u001b[0m hsv \u001b[39m=\u001b[39m cv\u001b[39m.\u001b[39;49mcvtColor(frame, cv\u001b[39m.\u001b[39;49mCOLOR_BGR2HSV)\n\u001b[0;32m      <a href='vscode-notebook-cell:/c%3A/Users/6hkhk/OneDrive%20-%20Qatar%20University/Desktop/QUCCC%2022/Computer%20Vision%20Workshop/Untitled-1.ipynb#ch0000001?line=8'>9</a>\u001b[0m     \u001b[39m# define range of blue color in HSV\u001b[39;00m\n\u001b[0;32m     <a href='vscode-notebook-cell:/c%3A/Users/6hkhk/OneDrive%20-%20Qatar%20University/Desktop/QUCCC%2022/Computer%20Vision%20Workshop/Untitled-1.ipynb#ch0000001?line=9'>10</a>\u001b[0m lower_blue \u001b[39m=\u001b[39m np\u001b[39m.\u001b[39marray([\u001b[39m0\u001b[39m,\u001b[39m0\u001b[39m,\u001b[39m0\u001b[39m])\n",
      "\u001b[1;31merror\u001b[0m: OpenCV(4.6.0) D:\\a\\opencv-python\\opencv-python\\opencv\\modules\\imgproc\\src\\color.cpp:182: error: (-215:Assertion failed) !_src.empty() in function 'cv::cvtColor'\n"
     ]
    }
   ],
   "source": [
    "#this is a code that takes an image and detects the lines in it and then sends the angle of those lines to an esp-32 webserver\n",
    "import cv2 as cv\n",
    "import numpy as np\n",
    "import requests\n",
    "import math\n",
    "# Load image\n",
    "frame = cv.imread(\"D:\\computer vision\\WhatsApp Image 2022-08-26 at 11.36.18 PM.jpeg\")\n",
    "hsv = cv.cvtColor(frame, cv.COLOR_BGR2HSV)\n",
    "    # define range of blue color in HSV\n",
    "lower_blue = np.array([0,0,0])\n",
    "upper_blue = np.array([179,255,74])\n",
    "# Threshold the HSV image to get only blue colors\n",
    "mask = cv.inRange(hsv, lower_blue, upper_blue)\n",
    "# Bitwise-AND mask and original image\n",
    "res = cv.bitwise_and(frame,frame, mask= mask)\n",
    "(thresh, im_bw) = cv.threshold(mask, 128, 255, cv.THRESH_BINARY | cv.THRESH_OTSU)#remove noise from the pic\n",
    "edges = cv.Canny(im_bw,100,10,L2gradient = False)\n",
    "cdst = cv.cvtColor(edges, cv.COLOR_GRAY2BGR)\n",
    "lines = cv.HoughLines(edges, 1, np.pi / 180, 150, None, 0, 0)#finds lines in an image\n",
    "if lines is not None:\n",
    "        for i in range(0, len(lines)):\n",
    "            rho = lines[i][0][0]\n",
    "            theta = lines[i][0][1]\n",
    "            dtheta = math.degrees(theta)\n",
    "            print(dtheta)\n",
    "            a = math.cos(theta)\n",
    "            b = math.sin(theta)\n",
    "            x0 = a * rho\n",
    "            y0 = b * rho\n",
    "            pt1 = (int(x0 + 1000*(-b)), int(y0 + 1000*(a)))\n",
    "            pt2 = (int(x0 - 1000*(-b)), int(y0 - 1000*(a)))\n",
    "            cv.line(cdst, pt1, pt2, (0,0,255), 3, cv.LINE_AA)\n",
    "            url = \"http://192.168.100.37/\" + str(dtheta)\n",
    "            print(url)\n",
    "            requests.get(url)\n",
    "\n",
    "while(1):\n",
    "    cv.imshow('im_bw',cdst)\n",
    "    k = cv.waitKey(5) & 0xFF\n",
    "    if k == 27:\n",
    "        break\n",
    "\n",
    "\n",
    "cv.destroyAllWindows()\n"
   ]
  },
  {
   "cell_type": "code",
   "execution_count": null,
   "metadata": {},
   "outputs": [
    {
     "ename": "",
     "evalue": "",
     "output_type": "error",
     "traceback": [
      "The Kernel crashed while executing code in the the current cell or a previous cell. Please review the code in the cell(s) to identify a possible cause of the failure. Click <a href='https://aka.ms/vscodeJupyterKernelCrash'>here</a> for more info. View Jupyter <a href='command:jupyter.viewOutput'>log</a> for further details."
     ]
    }
   ],
   "source": [
    "#this is the code that takes an image and then does hough transforms and produces the lines found\n",
    "import sys\n",
    "import math\n",
    "import cv2 as cv\n",
    "import numpy as np\n",
    "def main(argv):\n",
    "    \n",
    "\n",
    "    src = cv.imread(\"D:\\computer vision\\WhatsApp Image 2022-08-26 at 11.36.18 PM.jpeg\", cv.IMREAD_GRAYSCALE)\n",
    "    # Check if image is loaded fine\n",
    "    if src is None:\n",
    "        print ('Error opening image!')\n",
    "        print ('Usage: hough_lines.py [image_name -- default ' + '] \\n')\n",
    "        return -1\n",
    "    \n",
    "    \n",
    "    dst = cv.Canny(src, 50, 200, None, 3)\n",
    "    \n",
    "    # Copy edges to the images that will display the results in BGR\n",
    "    cdst = cv.cvtColor(dst, cv.COLOR_GRAY2BGR)\n",
    "    cdstP = np.copy(cdst)\n",
    "    \n",
    "    lines = cv.HoughLines(dst, 1, np.pi / 180, 150, None, 0, 0)\n",
    "    \n",
    "    if lines is not None:\n",
    "        for i in range(0, len(lines)):\n",
    "            rho = lines[i][0][0]\n",
    "            theta = lines[i][0][1]\n",
    "            a = math.cos(theta)\n",
    "            b = math.sin(theta)\n",
    "            x0 = a * rho\n",
    "            y0 = b * rho\n",
    "            pt1 = (int(x0 + 1000*(-b)), int(y0 + 1000*(a)))\n",
    "            pt2 = (int(x0 - 1000*(-b)), int(y0 - 1000*(a)))\n",
    "            cv.line(cdst, pt1, pt2, (0,0,255), 3, cv.LINE_AA)\n",
    "    \n",
    "    \n",
    "    linesP = cv.HoughLinesP(dst, 1, np.pi / 180, 50, None, 50, 10)\n",
    "    \n",
    "    if linesP is not None:\n",
    "        for i in range(0, len(linesP)):\n",
    "            l = linesP[i][0]\n",
    "            cv.line(cdstP, (l[0], l[1]), (l[2], l[3]), (0,0,255), 3, cv.LINE_AA)\n",
    "    \n",
    "    cv.imshow(\"Source\", src)\n",
    "    cv.imshow(\"Detected Lines (in red) - Standard Hough Line Transform\", cdst)\n",
    "    cv.imshow(\"Detected Lines (in red) - Probabilistic Line Transform\", cdstP)\n",
    "    \n",
    "    cv.waitKey()\n",
    "    return 0\n",
    "    \n",
    "if __name__ == \"__main__\":\n",
    "    main(sys.argv[1:])"
   ]
  },
  {
   "cell_type": "code",
   "execution_count": null,
   "metadata": {},
   "outputs": [
    {
     "ename": "error",
     "evalue": "OpenCV(4.6.0) D:\\a\\opencv-python\\opencv-python\\opencv\\modules\\highgui\\src\\window_w32.cpp:2581: error: (-27:Null pointer) NULL window: 'image' in function 'cvGetTrackbarPos'\n",
     "output_type": "error",
     "traceback": [
      "\u001b[1;31m---------------------------------------------------------------------------\u001b[0m",
      "\u001b[1;31merror\u001b[0m                                     Traceback (most recent call last)",
      "\u001b[1;32md:\\computer vision\\Untitled-1.ipynb Cell 4\u001b[0m in \u001b[0;36m<cell line: 33>\u001b[1;34m()\u001b[0m\n\u001b[0;32m     <a href='vscode-notebook-cell:/d%3A/computer%20vision/Untitled-1.ipynb#W3sZmlsZQ%3D%3D?line=28'>29</a>\u001b[0m phMin \u001b[39m=\u001b[39m psMin \u001b[39m=\u001b[39m pvMin \u001b[39m=\u001b[39m phMax \u001b[39m=\u001b[39m psMax \u001b[39m=\u001b[39m pvMax \u001b[39m=\u001b[39m \u001b[39m0\u001b[39m\n\u001b[0;32m     <a href='vscode-notebook-cell:/d%3A/computer%20vision/Untitled-1.ipynb#W3sZmlsZQ%3D%3D?line=30'>31</a>\u001b[0m \u001b[39mwhile\u001b[39;00m(\u001b[39m1\u001b[39m):\n\u001b[0;32m     <a href='vscode-notebook-cell:/d%3A/computer%20vision/Untitled-1.ipynb#W3sZmlsZQ%3D%3D?line=31'>32</a>\u001b[0m     \u001b[39m# Get current positions of all trackbars\u001b[39;00m\n\u001b[1;32m---> <a href='vscode-notebook-cell:/d%3A/computer%20vision/Untitled-1.ipynb#W3sZmlsZQ%3D%3D?line=32'>33</a>\u001b[0m     hMin \u001b[39m=\u001b[39m cv2\u001b[39m.\u001b[39;49mgetTrackbarPos(\u001b[39m'\u001b[39;49m\u001b[39mHMin\u001b[39;49m\u001b[39m'\u001b[39;49m, \u001b[39m'\u001b[39;49m\u001b[39mimage\u001b[39;49m\u001b[39m'\u001b[39;49m)\n\u001b[0;32m     <a href='vscode-notebook-cell:/d%3A/computer%20vision/Untitled-1.ipynb#W3sZmlsZQ%3D%3D?line=33'>34</a>\u001b[0m     sMin \u001b[39m=\u001b[39m cv2\u001b[39m.\u001b[39mgetTrackbarPos(\u001b[39m'\u001b[39m\u001b[39mSMin\u001b[39m\u001b[39m'\u001b[39m, \u001b[39m'\u001b[39m\u001b[39mimage\u001b[39m\u001b[39m'\u001b[39m)\n\u001b[0;32m     <a href='vscode-notebook-cell:/d%3A/computer%20vision/Untitled-1.ipynb#W3sZmlsZQ%3D%3D?line=34'>35</a>\u001b[0m     vMin \u001b[39m=\u001b[39m cv2\u001b[39m.\u001b[39mgetTrackbarPos(\u001b[39m'\u001b[39m\u001b[39mVMin\u001b[39m\u001b[39m'\u001b[39m, \u001b[39m'\u001b[39m\u001b[39mimage\u001b[39m\u001b[39m'\u001b[39m)\n",
      "\u001b[1;31merror\u001b[0m: OpenCV(4.6.0) D:\\a\\opencv-python\\opencv-python\\opencv\\modules\\highgui\\src\\window_w32.cpp:2581: error: (-27:Null pointer) NULL window: 'image' in function 'cvGetTrackbarPos'\n"
     ]
    }
   ],
   "source": [
    "# this is a program that takes an image and you can manully adjust the thereshold for the color range till you only get the colors you want\n",
    "\n",
    "import cv2\n",
    "import numpy as np\n",
    "\n",
    "def nothing(x):\n",
    "    pass\n",
    "\n",
    "# Load image\n",
    "image = cv2.imread(\"D:\\computer vision\\WhatsApp Image 2022-08-26 at 11.36.18 PM.jpeg\")\n",
    "\n",
    "# Create a window\n",
    "cv2.namedWindow('image')\n",
    "\n",
    "# Create trackbars for color change\n",
    "# Hue is from 0-179 for Opencv\n",
    "cv2.createTrackbar('HMin', 'image', 0, 179, nothing)\n",
    "cv2.createTrackbar('SMin', 'image', 0, 255, nothing)\n",
    "cv2.createTrackbar('VMin', 'image', 0, 255, nothing)\n",
    "cv2.createTrackbar('HMax', 'image', 0, 179, nothing)\n",
    "cv2.createTrackbar('SMax', 'image', 0, 255, nothing)\n",
    "cv2.createTrackbar('VMax', 'image', 0, 255, nothing)\n",
    "\n",
    "# Set default value for Max HSV trackbars\n",
    "cv2.setTrackbarPos('HMax', 'image', 179)\n",
    "cv2.setTrackbarPos('SMax', 'image', 255)\n",
    "cv2.setTrackbarPos('VMax', 'image', 255)\n",
    "\n",
    "# Initialize HSV min/max values\n",
    "hMin = sMin = vMin = hMax = sMax = vMax = 0\n",
    "phMin = psMin = pvMin = phMax = psMax = pvMax = 0\n",
    "\n",
    "while(1):\n",
    "    # Get current positions of all trackbars\n",
    "    hMin = cv2.getTrackbarPos('HMin', 'image')\n",
    "    sMin = cv2.getTrackbarPos('SMin', 'image')\n",
    "    vMin = cv2.getTrackbarPos('VMin', 'image')\n",
    "    hMax = cv2.getTrackbarPos('HMax', 'image')\n",
    "    sMax = cv2.getTrackbarPos('SMax', 'image')\n",
    "    vMax = cv2.getTrackbarPos('VMax', 'image')\n",
    "\n",
    "    # Set minimum and maximum HSV values to display\n",
    "    lower = np.array([hMin, sMin, vMin])\n",
    "    upper = np.array([hMax, sMax, vMax])\n",
    "\n",
    "    # Convert to HSV format and color threshold\n",
    "    hsv = cv2.cvtColor(image, cv2.COLOR_BGR2HSV)\n",
    "    mask = cv2.inRange(hsv, lower, upper)\n",
    "    result = cv2.bitwise_and(image, image, mask=mask)\n",
    "\n",
    "    # Print if there is a change in HSV value\n",
    "    if((phMin != hMin) | (psMin != sMin) | (pvMin != vMin) | (phMax != hMax) | (psMax != sMax) | (pvMax != vMax) ):\n",
    "        #print(\"(hMin = %d , sMin = %d, vMin = %d), (hMax = %d , sMax = %d, vMax = %d)\" % (hMin , sMin , vMin, hMax, sMax , vMax))\n",
    "        phMin = hMin\n",
    "        psMin = sMin\n",
    "        pvMin = vMin\n",
    "        phMax = hMax\n",
    "        psMax = sMax\n",
    "        pvMax = vMax\n",
    "\n",
    "    # Display result image\n",
    "    cv2.imshow('image', result)\n",
    "    if cv2.waitKey(10) & 0xFF == ord('q'):\n",
    "        break\n",
    "\n",
    "cv2.destroyAllWindows()"
   ]
  }
 ],
 "metadata": {
  "kernelspec": {
   "display_name": "Python 3.9.6 64-bit",
   "language": "python",
   "name": "python3"
  },
  "language_info": {
   "codemirror_mode": {
    "name": "ipython",
    "version": 3
   },
   "file_extension": ".py",
   "mimetype": "text/x-python",
   "name": "python",
   "nbconvert_exporter": "python",
   "pygments_lexer": "ipython3",
   "version": "3.9.6"
  },
  "orig_nbformat": 4,
  "vscode": {
   "interpreter": {
    "hash": "81794d4967e6c3204c66dcd87b604927b115b27c00565d3d43f05ba2f3a2cb0d"
   }
  }
 },
 "nbformat": 4,
 "nbformat_minor": 2
}
